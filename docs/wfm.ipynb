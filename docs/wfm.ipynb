{
 "cells": [
  {
   "cell_type": "markdown",
   "metadata": {},
   "source": [
    "# An example use case of stitching WFM data"
   ]
  },
  {
   "cell_type": "code",
   "execution_count": null,
   "metadata": {},
   "outputs": [],
   "source": [
    "import numpy as np\n",
    "import matplotlib.pyplot as plt\n",
    "from dress import wfm"
   ]
  },
  {
   "cell_type": "markdown",
   "metadata": {},
   "source": [
    "## Generate some fake data"
   ]
  },
  {
   "cell_type": "code",
   "execution_count": null,
   "metadata": {},
   "outputs": [],
   "source": [
    "# Make a distribution using sine waves that resembles WFM experimental data\n",
    "xmax = 7.5e4\n",
    "nbins = 512\n",
    "x = np.linspace(0., xmax, nbins)\n",
    "dx = 9.5e3\n",
    "y = np.abs(10.0 * np.sin((x-dx) * 3.5/ xmax) *\n",
    "           np.sin((x-dx) * 27.5 / xmax)) + np.random.random(nbins)\n",
    "y[:126] = 0.0\n",
    "y[474:] = 0.0\n",
    "# Add noise\n",
    "y += 0.5 * np.random.random(nbins)"
   ]
  },
  {
   "cell_type": "code",
   "execution_count": null,
   "metadata": {},
   "outputs": [],
   "source": [
    "# Plot distribution\n",
    "fig1, ax1 = plt.subplots()\n",
    "ax1.plot(x, y/np.sum(y))"
   ]
  },
  {
   "cell_type": "markdown",
   "metadata": {},
   "source": [
    "Then we generate a random sample of ~100000 events using the above distribution as a probability density function"
   ]
  },
  {
   "cell_type": "code",
   "execution_count": null,
   "metadata": {},
   "outputs": [],
   "source": [
    "nevents = 100000\n",
    "events = np.random.choice(x, size=nevents, p=y/np.sum(y))\n",
    "yy = (np.random.random(nevents) - 0.5) * 10.0\n",
    "\n",
    "# Add fake Bragg peak\n",
    "nbragg = nevents // 40\n",
    "xbragg = np.random.choice(x, size=nbragg, p=y/np.sum(y))\n",
    "ybragg = (xbragg + (np.random.random(nbragg) - 0.5)*1000.0) * (10.0 / xmax) - 5.0\n",
    "events = np.concatenate([events, xbragg])\n",
    "yy = np.concatenate([yy, ybragg])"
   ]
  },
  {
   "cell_type": "code",
   "execution_count": null,
   "metadata": {},
   "outputs": [],
   "source": [
    "# Histogram and plot the event data\n",
    "hist2d, ye, xe = np.histogram2d(yy, events, bins=256)\n",
    "fig2, ax2 = plt.subplots(2, 1)\n",
    "im = ax2[0].imshow(hist2d, aspect=\"auto\", origin=\"lower\", extent=[xe[0], xe[-1], ye[0], ye[-1]])\n",
    "ax2[1].hist(events, bins=256)\n",
    "fig2.colorbar(im, ax=ax2[0])"
   ]
  },
  {
   "cell_type": "markdown",
   "metadata": {},
   "source": [
    "## Define the boundaries of the WFM frames\n",
    "\n",
    "We begin by first loading the instrument setup"
   ]
  },
  {
   "cell_type": "code",
   "execution_count": null,
   "metadata": {},
   "outputs": [],
   "source": [
    "# Get the V20 instrument chopper setup\n",
    "v20setup = wfm.v20.setup()\n",
    "# Get WFM frame parameters and generate TOF diagram\n",
    "frames = wfm.get_frames(instrument=v20setup, plot=True)"
   ]
  },
  {
   "cell_type": "markdown",
   "metadata": {},
   "source": [
    "Then we overlay the predicted locations of the frames onto the data"
   ]
  },
  {
   "cell_type": "code",
   "execution_count": null,
   "metadata": {},
   "outputs": [],
   "source": [
    "# Plot the event data\n",
    "fig3, ax3 = plt.subplots()\n",
    "ax3.hist(events, bins=256)\n",
    "for g in frames[\"gaps\"]:\n",
    "    ax3.axvline(x=g, color='r')"
   ]
  },
  {
   "cell_type": "markdown",
   "metadata": {},
   "source": [
    "## Stitch the histogrammed data"
   ]
  },
  {
   "cell_type": "code",
   "execution_count": null,
   "metadata": {},
   "outputs": [],
   "source": [
    "stitched = wfm.stitch(x=xe, y=hist2d, frames=frames)"
   ]
  },
  {
   "cell_type": "code",
   "execution_count": null,
   "metadata": {},
   "outputs": [],
   "source": [
    "# Plot the stitched histogram\n",
    "fig4, ax4 = plt.subplots(2, 1)\n",
    "im4 = ax4[0].imshow(stitched, aspect=\"auto\", origin=\"lower\", extent=[xe[0], xe[-1], ye[0], ye[-1]])\n",
    "ax4[1].plot(xe[:-1], np.sum(stitched, axis=0))\n",
    "fig4.colorbar(im4, ax=ax4[0])"
   ]
  }
 ],
 "metadata": {
  "kernelspec": {
   "display_name": "Python 3",
   "language": "python",
   "name": "python3"
  },
  "language_info": {
   "codemirror_mode": {
    "name": "ipython",
    "version": 3
   },
   "file_extension": ".py",
   "mimetype": "text/x-python",
   "name": "python",
   "nbconvert_exporter": "python",
   "pygments_lexer": "ipython3",
   "version": "3.7.4"
  }
 },
 "nbformat": 4,
 "nbformat_minor": 2
}
